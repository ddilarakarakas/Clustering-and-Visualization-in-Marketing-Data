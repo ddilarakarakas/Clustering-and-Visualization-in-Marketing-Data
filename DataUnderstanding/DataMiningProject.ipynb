{
  "nbformat": 4,
  "nbformat_minor": 0,
  "metadata": {
    "colab": {
      "name": "DataMiningProject.ipynb",
      "provenance": []
    },
    "kernelspec": {
      "name": "python3",
      "display_name": "Python 3"
    },
    "language_info": {
      "name": "python"
    }
  },
  "cells": [
    {
      "cell_type": "code",
      "execution_count": 40,
      "metadata": {
        "id": "L3fEbZMNI4Zx"
      },
      "outputs": [],
      "source": [
        "import numpy as np\n",
        "import pandas as pd\n",
        "import matplotlib.pyplot as plt\n",
        "from sklearn.preprocessing import StandardScaler\n",
        "import seaborn as sns\n",
        "from scipy.stats import zscore"
      ]
    },
    {
      "cell_type": "markdown",
      "source": [
        "# Loading Dataset\n",
        "\n",
        "Dataset is read and the **BasketDate** is converted 'str' to 'datetime'. Added **TotalSale** feature which is useful for some additional features related to customer's purchasing behavior."
      ],
      "metadata": {
        "id": "exfgDbEvvQkd"
      }
    },
    {
      "cell_type": "code",
      "source": [
        "dataset_frame = pd.read_csv('Data/customer_supermarket.csv', sep='\\t', index_col=0, decimal=',')\n",
        "dataset_frame['BasketDate'] = pd.to_datetime(dataset_frame['BasketDate'], dayfirst=True)\n",
        "dataset_frame['TotalSale'] = dataset_frame['Sale'] * dataset_frame['Qta']\n",
        "dataset_frame.info()\n"
      ],
      "metadata": {
        "colab": {
          "base_uri": "https://localhost:8080/"
        },
        "id": "DW7OixaoyT5B",
        "outputId": "f6fd32ed-7ac1-4267-e715-97cf5a43ca12"
      },
      "execution_count": 28,
      "outputs": [
        {
          "output_type": "stream",
          "name": "stdout",
          "text": [
            "<class 'pandas.core.frame.DataFrame'>\n",
            "Int64Index: 471910 entries, 0 to 541909\n",
            "Data columns (total 9 columns):\n",
            " #   Column           Non-Null Count   Dtype         \n",
            "---  ------           --------------   -----         \n",
            " 0   BasketID         471910 non-null  object        \n",
            " 1   BasketDate       471910 non-null  datetime64[ns]\n",
            " 2   Sale             471910 non-null  float64       \n",
            " 3   CustomerID       406830 non-null  object        \n",
            " 4   CustomerCountry  471910 non-null  object        \n",
            " 5   ProdID           471910 non-null  object        \n",
            " 6   ProdDescr        471157 non-null  object        \n",
            " 7   Qta              471910 non-null  int64         \n",
            " 8   TotalSale        471910 non-null  float64       \n",
            "dtypes: datetime64[ns](1), float64(2), int64(1), object(5)\n",
            "memory usage: 36.0+ MB\n"
          ]
        }
      ]
    },
    {
      "cell_type": "markdown",
      "source": [
        "Count of null values, for each attribute"
      ],
      "metadata": {
        "id": "X145UzpV224T"
      }
    },
    {
      "cell_type": "code",
      "source": [
        "dataset_frame.isnull().sum(axis = 0)"
      ],
      "metadata": {
        "colab": {
          "base_uri": "https://localhost:8080/"
        },
        "id": "uTsCE27G2335",
        "outputId": "7953e968-e9a6-468b-b856-09fbc2c60775"
      },
      "execution_count": 29,
      "outputs": [
        {
          "output_type": "execute_result",
          "data": {
            "text/plain": [
              "BasketID               0\n",
              "BasketDate             0\n",
              "Sale                   0\n",
              "CustomerID         65080\n",
              "CustomerCountry        0\n",
              "ProdID                 0\n",
              "ProdDescr            753\n",
              "Qta                    0\n",
              "TotalSale              0\n",
              "dtype: int64"
            ]
          },
          "metadata": {},
          "execution_count": 29
        }
      ]
    },
    {
      "cell_type": "markdown",
      "source": [
        "# Analysis of Single Attributes\n",
        "\n",
        "***BasketID***\n",
        "\n",
        "Count number of distinct baskets"
      ],
      "metadata": {
        "id": "dtKhZSbA5WHf"
      }
    },
    {
      "cell_type": "code",
      "source": [
        "basketID_counts = dataset_frame['BasketID'].value_counts()\n",
        "basketID_counts.describe()"
      ],
      "metadata": {
        "colab": {
          "base_uri": "https://localhost:8080/"
        },
        "id": "nxrqqvNXOKSL",
        "outputId": "d92595c7-78a5-44ec-98a0-b03fb8a2598b"
      },
      "execution_count": 30,
      "outputs": [
        {
          "output_type": "execute_result",
          "data": {
            "text/plain": [
              "count    24627.000000\n",
              "mean        19.162302\n",
              "std         28.635400\n",
              "min          1.000000\n",
              "25%          2.000000\n",
              "50%         11.000000\n",
              "75%         24.000000\n",
              "max        542.000000\n",
              "Name: BasketID, dtype: float64"
            ]
          },
          "metadata": {},
          "execution_count": 30
        }
      ]
    },
    {
      "cell_type": "markdown",
      "source": [
        "***BasketDate***\n",
        "\n",
        "Statistics on BasketDate"
      ],
      "metadata": {
        "id": "9LTsyIKfO99T"
      }
    },
    {
      "cell_type": "code",
      "source": [
        "basketDate_counts = dataset_frame['BasketDate'].dt.date.value_counts()\n",
        "print(\"Max date: \", str(max(dataset_frame['BasketDate'])))\n",
        "print(\"Min date: \", str(min(dataset_frame['BasketDate'])))\n",
        "print(\"More sales:\", str(basketDate_counts.index[0]))\n",
        "print(\"Less sales:\", str(basketDate_counts.index[-1]))"
      ],
      "metadata": {
        "colab": {
          "base_uri": "https://localhost:8080/"
        },
        "id": "3xhU92XpPwqJ",
        "outputId": "dd871e8f-fae6-49e8-ad64-e849dbac203c"
      },
      "execution_count": 31,
      "outputs": [
        {
          "output_type": "stream",
          "name": "stdout",
          "text": [
            "Max date:  2011-12-09 12:50:00\n",
            "Min date:  2010-12-01 08:26:00\n",
            "More sales: 2011-12-05\n",
            "Less sales: 2010-12-22\n"
          ]
        }
      ]
    },
    {
      "cell_type": "code",
      "source": [
        "temp = dataset_frame.groupby(pd.Grouper(key='BasketDate', freq='M'))['BasketID'].count()\n",
        "temp.index = temp.index.strftime('%b %Y')\n",
        "aplt = temp.plot(kind='bar', title='Number of transactions per month', rot=90)\n",
        "aplt.set_ylabel('Transactions')\n",
        "aplt.plot()"
      ],
      "metadata": {
        "colab": {
          "base_uri": "https://localhost:8080/",
          "height": 351
        },
        "id": "vJVHLVG8QS7z",
        "outputId": "2baa4710-08c7-4e5b-e9ed-ba9f0e333ca4"
      },
      "execution_count": 32,
      "outputs": [
        {
          "output_type": "execute_result",
          "data": {
            "text/plain": [
              "[]"
            ]
          },
          "metadata": {},
          "execution_count": 32
        },
        {
          "output_type": "display_data",
          "data": {
            "image/png": "[encoded data removed]",
            "text/plain": [
              "<Figure size 432x288 with 1 Axes>"
            ]
          },
          "metadata": {
            "needs_background": "light"
          }
        }
      ]
    },
    {
      "cell_type": "markdown",
      "source": [
        "***Sale***\n",
        "\n",
        "Null cost sales"
      ],
      "metadata": {
        "id": "HdmFBtscRNbP"
      }
    },
    {
      "cell_type": "code",
      "source": [
        "sale_cost_zero = dataset_frame['Sale'] == 0\n",
        "dataset_frame[sale_cost_zero].count()"
      ],
      "metadata": {
        "colab": {
          "base_uri": "https://localhost:8080/"
        },
        "id": "8Gy3RL14Swfx",
        "outputId": "1cbf6bcb-9162-4558-9a34-be59a3fc6577"
      },
      "execution_count": 33,
      "outputs": [
        {
          "output_type": "execute_result",
          "data": {
            "text/plain": [
              "BasketID           1279\n",
              "BasketDate         1279\n",
              "Sale               1279\n",
              "CustomerID           40\n",
              "CustomerCountry    1279\n",
              "ProdID             1279\n",
              "ProdDescr           526\n",
              "Qta                1279\n",
              "TotalSale          1279\n",
              "dtype: int64"
            ]
          },
          "metadata": {},
          "execution_count": 33
        }
      ]
    },
    {
      "cell_type": "markdown",
      "source": [
        "***CustomerID***\n",
        "\n",
        "Number of transactions made by each customer"
      ],
      "metadata": {
        "id": "7sbA_tOkTEcL"
      }
    },
    {
      "cell_type": "code",
      "source": [
        "customerID_counts = dataset_frame['CustomerID'].value_counts()\n",
        "print(customerID_counts.describe())\n",
        "customer_id_plot = customerID_counts.plot.box()\n",
        "customer_id_plot.set_ylabel(\"Transactions\")"
      ],
      "metadata": {
        "colab": {
          "base_uri": "https://localhost:8080/",
          "height": 439
        },
        "id": "3FaVtWfRUBUz",
        "outputId": "9e750f09-df7b-4fac-fb00-f41b6739c5bb"
      },
      "execution_count": 34,
      "outputs": [
        {
          "output_type": "stream",
          "name": "stdout",
          "text": [
            "count    4372.000000\n",
            "mean       93.053522\n",
            "std       232.471568\n",
            "min         1.000000\n",
            "25%        17.000000\n",
            "50%        42.000000\n",
            "75%       102.000000\n",
            "max      7983.000000\n",
            "Name: CustomerID, dtype: float64\n"
          ]
        },
        {
          "output_type": "execute_result",
          "data": {
            "text/plain": [
              "Text(0, 0.5, 'Transactions')"
            ]
          },
          "metadata": {},
          "execution_count": 34
        },
        {
          "output_type": "display_data",
          "data": {
            "image/png": "[encoded data removed]",
            "text/plain": [
              "<Figure size 432x288 with 1 Axes>"
            ]
          },
          "metadata": {
            "needs_background": "light"
          }
        }
      ]
    },
    {
      "cell_type": "markdown",
      "source": [
        "\n",
        "\n",
        "*   According to what we calculated above, there are 65080 null CustomerIDs. Therefore, transactions with null CustomerID are deleted.\n",
        "\n"
      ],
      "metadata": {
        "id": "Hrzs8PGXUzeq"
      }
    },
    {
      "cell_type": "code",
      "source": [
        "#Drop null customerId\n",
        "dataset_frame.dropna(subset=['CustomerID'], inplace=True)"
      ],
      "metadata": {
        "id": "0dIHlitDWLab"
      },
      "execution_count": 35,
      "outputs": []
    },
    {
      "cell_type": "markdown",
      "source": [
        "***CustomerCountry***"
      ],
      "metadata": {
        "id": "lBT6f1feW5bC"
      }
    },
    {
      "cell_type": "code",
      "source": [
        "customerCountry_counts = dataset_frame.groupby(['CustomerCountry', 'CustomerID']).size().groupby(level=0).size()\n",
        "customerCountry_counts.plot.bar()"
      ],
      "metadata": {
        "colab": {
          "base_uri": "https://localhost:8080/",
          "height": 394
        },
        "id": "_mpKTniRXF8r",
        "outputId": "1c44768b-7f52-4f49-c642-0a1447b8bb44"
      },
      "execution_count": 36,
      "outputs": [
        {
          "output_type": "execute_result",
          "data": {
            "text/plain": [
              "<matplotlib.axes._subplots.AxesSubplot at 0x7fa7224b7150>"
            ]
          },
          "metadata": {},
          "execution_count": 36
        },
        {
          "output_type": "display_data",
          "data": {
            "image/png": "[encoded data removed]",
            "text/plain": [
              "<Figure size 432x288 with 1 Axes>"
            ]
          },
          "metadata": {
            "needs_background": "light"
          }
        }
      ]
    },
    {
      "cell_type": "markdown",
      "source": [
        "As can be seen from the graph, United Kingdom has the highest number of customer countries.\n",
        "\n",
        "***ProdID, ProdDescr***"
      ],
      "metadata": {
        "id": "r7epPph-XRev"
      }
    },
    {
      "cell_type": "code",
      "source": [
        "prodID_counts = dataset_frame['ProdID'].value_counts()\n",
        "print(prodID_counts.describe())\n",
        "\n",
        "best_seller_id = prodID_counts.index[0]\n",
        "best_seller_descr = dataset_frame.loc[dataset_frame['ProdID'] == best_seller_id]['ProdDescr'].iloc[0]\n",
        "print(\"Best seller: {} ({})\".format(str(best_seller_id), str(best_seller_descr)))\n",
        "\n",
        "worst_seller_id = prodID_counts.index[-1]\n",
        "worst_seller_descr = dataset_frame.loc[dataset_frame['ProdID'] == worst_seller_id]['ProdDescr'].iloc[0]\n",
        "print(\"Worst seller: {} ({})\".format(str(worst_seller_id), str(worst_seller_descr)))"
      ],
      "metadata": {
        "colab": {
          "base_uri": "https://localhost:8080/"
        },
        "id": "hzm4gqSRYTSk",
        "outputId": "25a58bca-56d6-4c5c-e6f7-3a9cb02c73e7"
      },
      "execution_count": 37,
      "outputs": [
        {
          "output_type": "stream",
          "name": "stdout",
          "text": [
            "count    3684.000000\n",
            "mean      110.431596\n",
            "std       167.529851\n",
            "min         1.000000\n",
            "25%        12.000000\n",
            "50%        49.000000\n",
            "75%       139.000000\n",
            "max      2077.000000\n",
            "Name: ProdID, dtype: float64\n",
            "Best seller: 85123A (WHITE HANGING HEART T-LIGHT HOLDER)\n",
            "Worst seller: 84773 (RED ROSE AND LACE C/COVER)\n"
          ]
        }
      ]
    },
    {
      "cell_type": "markdown",
      "source": [
        "***Qta***\n",
        "\n",
        "Negative quantity"
      ],
      "metadata": {
        "id": "Wkd-COvlZUmN"
      }
    },
    {
      "cell_type": "code",
      "source": [
        "negative_qta = dataset_frame['Qta'] < 0\n",
        "dataset_frame[negative_qta].count()"
      ],
      "metadata": {
        "colab": {
          "base_uri": "https://localhost:8080/"
        },
        "id": "p5JzVkERZi8B",
        "outputId": "6f245f15-ee55-4319-a74e-1df81612b595"
      },
      "execution_count": 38,
      "outputs": [
        {
          "output_type": "execute_result",
          "data": {
            "text/plain": [
              "BasketID           8905\n",
              "BasketDate         8905\n",
              "Sale               8905\n",
              "CustomerID         8905\n",
              "CustomerCountry    8905\n",
              "ProdID             8905\n",
              "ProdDescr          8905\n",
              "Qta                8905\n",
              "TotalSale          8905\n",
              "dtype: int64"
            ]
          },
          "metadata": {},
          "execution_count": 38
        }
      ]
    },
    {
      "cell_type": "markdown",
      "source": [
        "# Drop Transaction and Clean Dataset Export"
      ],
      "metadata": {
        "id": "tz6QfGIiaBiv"
      }
    },
    {
      "cell_type": "code",
      "source": [
        "dataset_frame[sale_cost_zero & negative_qta].count()"
      ],
      "metadata": {
        "colab": {
          "base_uri": "https://localhost:8080/"
        },
        "id": "QUADPH5vaIKq",
        "outputId": "0bafbcb3-5460-45a7-ca36-8e7fc131fda5"
      },
      "execution_count": 20,
      "outputs": [
        {
          "output_type": "execute_result",
          "data": {
            "text/plain": [
              "BasketID           668\n",
              "BasketDate         668\n",
              "Sale               668\n",
              "CustomerID           0\n",
              "CustomerCountry    668\n",
              "ProdID             668\n",
              "ProdDescr          221\n",
              "Qta                668\n",
              "TotalSale          668\n",
              "dtype: int64"
            ]
          },
          "metadata": {},
          "execution_count": 20
        }
      ]
    },
    {
      "cell_type": "markdown",
      "source": [
        "These transactions are dropped because they're not relevant for project purposes."
      ],
      "metadata": {
        "id": "_TWpQBXjcYB8"
      }
    },
    {
      "cell_type": "code",
      "source": [
        "dataset_frame.drop(dataset_frame[negative_qta].index, inplace=True)\n",
        "dataset_frame.drop(dataset_frame[sale_cost_zero].index, inplace=True)"
      ],
      "metadata": {
        "colab": {
          "base_uri": "https://localhost:8080/"
        },
        "id": "LcCsgE-GdcuB",
        "outputId": "15aaf5ab-713f-4d68-8058-bfb8711bd2e4"
      },
      "execution_count": 21,
      "outputs": [
        {
          "output_type": "stream",
          "name": "stderr",
          "text": [
            "/usr/local/lib/python3.7/dist-packages/ipykernel_launcher.py:2: UserWarning: Boolean Series key will be reindexed to match DataFrame index.\n",
            "  \n"
          ]
        }
      ]
    },
    {
      "cell_type": "markdown",
      "source": [
        "Export clean dataset"
      ],
      "metadata": {
        "id": "TYm7GhkPdzwC"
      }
    },
    {
      "cell_type": "code",
      "source": [
        "dataset_frame.to_csv(r'Data/clean_dataset.csv', index=True, header=True)"
      ],
      "metadata": {
        "id": "8JtJen_vd1kR"
      },
      "execution_count": 22,
      "outputs": []
    },
    {
      "cell_type": "markdown",
      "source": [
        "# Correlation Analysis\n",
        "\n",
        "***Original Dataset***\n",
        "\n",
        "To calculate pairwise correlation, I transformed some attributes into categorical ones. Due to implementation reasons, ProdDescr had to be treated differently from other attributes. For this reason, I introduced a dictionary: for each string (key) we assigned an incremental identifier (value). Then I replaced all the descriptions with their associated identifier and this way I proceeded to calculate the pairwise correlation, represented by a heatmap."
      ],
      "metadata": {
        "id": "EwVqPi6mjaCz"
      }
    },
    {
      "cell_type": "code",
      "source": [
        "dataset_frame_correlation = dataset_frame.copy()\n",
        "dataset_frame_correlation['ProdID'] = dataset_frame_correlation['ProdID'].astype('category').cat.codes\n",
        "dataset_frame_correlation.sort_values(by=['ProdID'], inplace=True)\n",
        "obj = {}\n",
        "idx = 0\n",
        "s = \"\"\n",
        "for index, row in dataset_frame_correlation.iterrows():\n",
        "    if row['ProdDescr'] != s:\n",
        "        s = row['ProdDescr']\n",
        "        obj[s] = idx\n",
        "        idx += 1\n",
        "dataset_frame_correlation['ProdDescr'].replace(obj, inplace=True)\n",
        "dataset_frame_correlation['BasketID'] = dataset_frame_correlation['BasketID'].astype('category').cat.codes\n",
        "dataset_frame_correlation['BasketDate'] = dataset_frame_correlation['BasketDate'].astype('category').cat.codes\n",
        "dataset_frame_correlation['CustomerID'] = dataset_frame_correlation['CustomerID'].astype('category').cat.codes\n",
        "dataset_frame_correlation['CustomerCountry'] = dataset_frame_correlation['CustomerCountry'].astype('category').cat.codes\n",
        "correlation = dataset_frame_correlation.corr()\n",
        "sns.set(style=\"white\")\n",
        "mask = np.zeros_like(correlation, dtype=np.bool)\n",
        "mask[np.triu_indices_from(mask)] = True\n",
        "f, ax = plt.subplots(figsize=(9,9))\n",
        "cmap = sns.diverging_palette(220, 10, as_cmap=True)\n",
        "sns.heatmap(correlation, mask=mask, cmap=cmap,annot=True, vmax=1,vmin=-1,center=0, square=True, linewidths=0.5, cbar_kws={\"shrink\": 0.5})"
      ],
      "metadata": {
        "colab": {
          "base_uri": "https://localhost:8080/",
          "height": 557
        },
        "id": "_NCqOAfbjfH_",
        "outputId": "5cbf29b8-d6c4-4589-e220-8aefe1f718aa"
      },
      "execution_count": 39,
      "outputs": [
        {
          "output_type": "execute_result",
          "data": {
            "text/plain": [
              "<matplotlib.axes._subplots.AxesSubplot at 0x7fa7295b4f50>"
            ]
          },
          "metadata": {},
          "execution_count": 39
        },
        {
          "output_type": "display_data",
          "data": {
            "image/png": "[encoded data removed]",
            "text/plain": [
              "<Figure size 648x648 with 2 Axes>"
            ]
          },
          "metadata": {}
        }
      ]
    },
    {
      "cell_type": "markdown",
      "source": [
        "# New features\n",
        "\n",
        "*   ObservationItems\n",
        "*   ObservationDistinctItems\n",
        "*   ObservationMaxItem\n",
        "\n"
      ],
      "metadata": {
        "id": "OpEhcYUSrJSh"
      }
    },
    {
      "cell_type": "code",
      "source": [
        "dataset_frame_customer = dataset_frame.groupby('CustomerID').agg(ObservationItems=('ProdID','count'),ObservationDistinctItems=('ProdID', 'nunique'))\n",
        "dataset_frame_customer['ObservationMaxItem'] = dataset_frame.groupby(['CustomerID','BasketID']).count().max(level=0)['BasketDate']"
      ],
      "metadata": {
        "id": "esFi2zGWrPJM"
      },
      "execution_count": 43,
      "outputs": []
    },
    {
      "cell_type": "markdown",
      "source": [
        "*   BasketNum : Number of Baskets per customer.\n"
      ],
      "metadata": {
        "id": "-80Zqmdjvg0A"
      }
    },
    {
      "cell_type": "code",
      "source": [
        "dataset_frame_customer['BasketNum'] = dataset_frame.groupby(['CustomerID', 'BasketID']).size().groupby(level=0).size()"
      ],
      "metadata": {
        "id": "udjZXDZUvuiZ"
      },
      "execution_count": 45,
      "outputs": []
    },
    {
      "cell_type": "markdown",
      "source": [
        "Sum and Average expenditure for each customer.\n",
        "\n",
        "*   SumExp\n",
        "*   AvgExp\n",
        "\n"
      ],
      "metadata": {
        "id": "5fEaDQjmv0jI"
      }
    },
    {
      "cell_type": "code",
      "source": [
        "dataset_frame_group = dataset_frame.groupby(['CustomerID','BasketID']).agg(BasketSum=('TotalSale', 'sum'))\n",
        "dataset_frame_group = dataset_frame_group.groupby('CustomerID').agg(BasketMean=('BasketSum', 'mean'), SumExp=('BasketSum', 'sum'))\n",
        "dataset_frame_customer['SumExp'] = dataset_frame_group['SumExp']\n",
        "dataset_frame_customer['AvgExp'] = dataset_frame_group['BasketMean']"
      ],
      "metadata": {
        "id": "8Ola5KBdzEuF"
      },
      "execution_count": 48,
      "outputs": []
    },
    {
      "cell_type": "markdown",
      "source": [
        "# Analysis of New Dataset\n",
        "\n",
        "By combining the required features with the new ones, I created a new dataset useful for subsequent clustering tasks."
      ],
      "metadata": {
        "id": "MFLsO1LAzR4u"
      }
    },
    {
      "cell_type": "code",
      "source": [
        "dataset_frame_customer.describe()"
      ],
      "metadata": {
        "colab": {
          "base_uri": "https://localhost:8080/",
          "height": 300
        },
        "id": "19eKd9_nzXPE",
        "outputId": "c7c69bf1-f028-401c-a6c2-71c55047a7ba"
      },
      "execution_count": 49,
      "outputs": [
        {
          "output_type": "execute_result",
          "data": {
            "text/html": [
              "\n",
              "  <div id=\"df-a5d78a37-834d-4106-8bc5-170dafbcc82f\">\n",
              "    <div class=\"colab-df-container\">\n",
              "      <div>\n",
              "<style scoped>\n",
              "    .dataframe tbody tr th:only-of-type {\n",
              "        vertical-align: middle;\n",
              "    }\n",
              "\n",
              "    .dataframe tbody tr th {\n",
              "        vertical-align: top;\n",
              "    }\n",
              "\n",
              "    .dataframe thead th {\n",
              "        text-align: right;\n",
              "    }\n",
              "</style>\n",
              "<table border=\"1\" class=\"dataframe\">\n",
              "  <thead>\n",
              "    <tr style=\"text-align: right;\">\n",
              "      <th></th>\n",
              "      <th>ObservationItems</th>\n",
              "      <th>ObservationDistinctItems</th>\n",
              "      <th>ObservationMaxItem</th>\n",
              "      <th>BasketNum</th>\n",
              "      <th>SumExp</th>\n",
              "      <th>AvgExp</th>\n",
              "    </tr>\n",
              "  </thead>\n",
              "  <tbody>\n",
              "    <tr>\n",
              "      <th>count</th>\n",
              "      <td>4372.000000</td>\n",
              "      <td>4372.000000</td>\n",
              "      <td>4372.000000</td>\n",
              "      <td>4372.000000</td>\n",
              "      <td>4372.000000</td>\n",
              "      <td>4372.000000</td>\n",
              "    </tr>\n",
              "    <tr>\n",
              "      <th>mean</th>\n",
              "      <td>93.053522</td>\n",
              "      <td>61.211116</td>\n",
              "      <td>31.867795</td>\n",
              "      <td>5.075480</td>\n",
              "      <td>1898.463818</td>\n",
              "      <td>315.884437</td>\n",
              "    </tr>\n",
              "    <tr>\n",
              "      <th>std</th>\n",
              "      <td>232.471568</td>\n",
              "      <td>85.425119</td>\n",
              "      <td>31.225805</td>\n",
              "      <td>9.338754</td>\n",
              "      <td>8219.344627</td>\n",
              "      <td>361.237024</td>\n",
              "    </tr>\n",
              "    <tr>\n",
              "      <th>min</th>\n",
              "      <td>1.000000</td>\n",
              "      <td>1.000000</td>\n",
              "      <td>1.000000</td>\n",
              "      <td>1.000000</td>\n",
              "      <td>-4287.630000</td>\n",
              "      <td>-4287.630000</td>\n",
              "    </tr>\n",
              "    <tr>\n",
              "      <th>25%</th>\n",
              "      <td>17.000000</td>\n",
              "      <td>15.000000</td>\n",
              "      <td>12.000000</td>\n",
              "      <td>1.000000</td>\n",
              "      <td>293.362500</td>\n",
              "      <td>151.991250</td>\n",
              "    </tr>\n",
              "    <tr>\n",
              "      <th>50%</th>\n",
              "      <td>42.000000</td>\n",
              "      <td>35.000000</td>\n",
              "      <td>23.000000</td>\n",
              "      <td>3.000000</td>\n",
              "      <td>648.075000</td>\n",
              "      <td>236.987500</td>\n",
              "    </tr>\n",
              "    <tr>\n",
              "      <th>75%</th>\n",
              "      <td>102.000000</td>\n",
              "      <td>77.000000</td>\n",
              "      <td>41.000000</td>\n",
              "      <td>5.000000</td>\n",
              "      <td>1611.725000</td>\n",
              "      <td>370.816071</td>\n",
              "    </tr>\n",
              "    <tr>\n",
              "      <th>max</th>\n",
              "      <td>7983.000000</td>\n",
              "      <td>1794.000000</td>\n",
              "      <td>542.000000</td>\n",
              "      <td>248.000000</td>\n",
              "      <td>279489.020000</td>\n",
              "      <td>6207.670000</td>\n",
              "    </tr>\n",
              "  </tbody>\n",
              "</table>\n",
              "</div>\n",
              "      <button class=\"colab-df-convert\" onclick=\"convertToInteractive('df-a5d78a37-834d-4106-8bc5-170dafbcc82f')\"\n",
              "              title=\"Convert this dataframe to an interactive table.\"\n",
              "              style=\"display:none;\">\n",
              "        \n",
              "  <svg xmlns=\"http://www.w3.org/2000/svg\" height=\"24px\"viewBox=\"0 0 24 24\"\n",
              "       width=\"24px\">\n",
              "    <path d=\"M0 0h24v24H0V0z\" fill=\"none\"/>\n",
              "    <path d=\"M18.56 5.44l.94 2.06.94-2.06 2.06-.94-2.06-.94-.94-2.06-.94 2.06-2.06.94zm-11 1L8.5 8.5l.94-2.06 2.06-.94-2.06-.94L8.5 2.5l-.94 2.06-2.06.94zm10 10l.94 2.06.94-2.06 2.06-.94-2.06-.94-.94-2.06-.94 2.06-2.06.94z\"/><path d=\"M17.41 7.96l-1.37-1.37c-.4-.4-.92-.59-1.43-.59-.52 0-1.04.2-1.43.59L10.3 9.45l-7.72 7.72c-.78.78-.78 2.05 0 2.83L4 21.41c.39.39.9.59 1.41.59.51 0 1.02-.2 1.41-.59l7.78-7.78 2.81-2.81c.8-.78.8-2.07 0-2.86zM5.41 20L4 18.59l7.72-7.72 1.47 1.35L5.41 20z\"/>\n",
              "  </svg>\n",
              "      </button>\n",
              "      \n",
              "  <style>\n",
              "    .colab-df-container {\n",
              "      display:flex;\n",
              "      flex-wrap:wrap;\n",
              "      gap: 12px;\n",
              "    }\n",
              "\n",
              "    .colab-df-convert {\n",
              "      background-color: #E8F0FE;\n",
              "      border: none;\n",
              "      border-radius: 50%;\n",
              "      cursor: pointer;\n",
              "      display: none;\n",
              "      fill: #1967D2;\n",
              "      height: 32px;\n",
              "      padding: 0 0 0 0;\n",
              "      width: 32px;\n",
              "    }\n",
              "\n",
              "    .colab-df-convert:hover {\n",
              "      background-color: #E2EBFA;\n",
              "      box-shadow: 0px 1px 2px rgba(60, 64, 67, 0.3), 0px 1px 3px 1px rgba(60, 64, 67, 0.15);\n",
              "      fill: #174EA6;\n",
              "    }\n",
              "\n",
              "    [theme=dark] .colab-df-convert {\n",
              "      background-color: #3B4455;\n",
              "      fill: #D2E3FC;\n",
              "    }\n",
              "\n",
              "    [theme=dark] .colab-df-convert:hover {\n",
              "      background-color: #434B5C;\n",
              "      box-shadow: 0px 1px 3px 1px rgba(0, 0, 0, 0.15);\n",
              "      filter: drop-shadow(0px 1px 2px rgba(0, 0, 0, 0.3));\n",
              "      fill: #FFFFFF;\n",
              "    }\n",
              "  </style>\n",
              "\n",
              "      <script>\n",
              "        const buttonEl =\n",
              "          document.querySelector('#df-a5d78a37-834d-4106-8bc5-170dafbcc82f button.colab-df-convert');\n",
              "        buttonEl.style.display =\n",
              "          google.colab.kernel.accessAllowed ? 'block' : 'none';\n",
              "\n",
              "        async function convertToInteractive(key) {\n",
              "          const element = document.querySelector('#df-a5d78a37-834d-4106-8bc5-170dafbcc82f');\n",
              "          const dataTable =\n",
              "            await google.colab.kernel.invokeFunction('convertToInteractive',\n",
              "                                                     [key], {});\n",
              "          if (!dataTable) return;\n",
              "\n",
              "          const docLinkHtml = 'Like what you see? Visit the ' +\n",
              "            '<a target=\"_blank\" href=https://colab.research.google.com/notebooks/data_table.ipynb>data table notebook</a>'\n",
              "            + ' to learn more about interactive tables.';\n",
              "          element.innerHTML = '';\n",
              "          dataTable['output_type'] = 'display_data';\n",
              "          await google.colab.output.renderOutput(dataTable, element);\n",
              "          const docLink = document.createElement('div');\n",
              "          docLink.innerHTML = docLinkHtml;\n",
              "          element.appendChild(docLink);\n",
              "        }\n",
              "      </script>\n",
              "    </div>\n",
              "  </div>\n",
              "  "
            ],
            "text/plain": [
              "       ObservationItems  ObservationDistinctItems  ...         SumExp       AvgExp\n",
              "count       4372.000000               4372.000000  ...    4372.000000  4372.000000\n",
              "mean          93.053522                 61.211116  ...    1898.463818   315.884437\n",
              "std          232.471568                 85.425119  ...    8219.344627   361.237024\n",
              "min            1.000000                  1.000000  ...   -4287.630000 -4287.630000\n",
              "25%           17.000000                 15.000000  ...     293.362500   151.991250\n",
              "50%           42.000000                 35.000000  ...     648.075000   236.987500\n",
              "75%          102.000000                 77.000000  ...    1611.725000   370.816071\n",
              "max         7983.000000               1794.000000  ...  279489.020000  6207.670000\n",
              "\n",
              "[8 rows x 6 columns]"
            ]
          },
          "metadata": {},
          "execution_count": 49
        }
      ]
    },
    {
      "cell_type": "code",
      "source": [
        "dataset_frame_customer.boxplot()"
      ],
      "metadata": {
        "colab": {
          "base_uri": "https://localhost:8080/",
          "height": 285
        },
        "id": "psYHnZB7zfpl",
        "outputId": "d02d96bb-1fef-4182-bbde-7ebce2e17e63"
      },
      "execution_count": 50,
      "outputs": [
        {
          "output_type": "execute_result",
          "data": {
            "text/plain": [
              "<matplotlib.axes._subplots.AxesSubplot at 0x7fa7293c5550>"
            ]
          },
          "metadata": {},
          "execution_count": 50
        },
        {
          "output_type": "display_data",
          "data": {
            "image/png": "[encoded data removed]",
            "text/plain": [
              "<Figure size 432x288 with 1 Axes>"
            ]
          },
          "metadata": {}
        }
      ]
    },
    {
      "cell_type": "markdown",
      "source": [
        "# Remove Outliers From The New Dataset\n",
        "\n",
        "I exploited the metric of Z-Score."
      ],
      "metadata": {
        "id": "bx1CTAmr0HPQ"
      }
    },
    {
      "cell_type": "code",
      "source": [
        "z_scores = zscore(dataset_frame_customer)\n",
        "abs_z_scores = np.abs(z_scores)\n",
        "filtered_entries = (abs_z_scores < 3).all(axis=1)\n",
        "new_dataset_frame = dataset_frame_customer[filtered_entries]\n",
        "new_dataset_frame.to_csv(r'Data/new_dataset.csv', index=True, header=True)\n",
        "new_dataset_frame.describe()"
      ],
      "metadata": {
        "colab": {
          "base_uri": "https://localhost:8080/",
          "height": 300
        },
        "id": "G8JHR22V0PYt",
        "outputId": "68ebf0f6-c3ca-4600-e19c-bd6bfb33a7ab"
      },
      "execution_count": 52,
      "outputs": [
        {
          "output_type": "execute_result",
          "data": {
            "text/html": [
              "\n",
              "  <div id=\"df-3a3d013d-ff4f-4cf0-ac10-89df1b55b38c\">\n",
              "    <div class=\"colab-df-container\">\n",
              "      <div>\n",
              "<style scoped>\n",
              "    .dataframe tbody tr th:only-of-type {\n",
              "        vertical-align: middle;\n",
              "    }\n",
              "\n",
              "    .dataframe tbody tr th {\n",
              "        vertical-align: top;\n",
              "    }\n",
              "\n",
              "    .dataframe thead th {\n",
              "        text-align: right;\n",
              "    }\n",
              "</style>\n",
              "<table border=\"1\" class=\"dataframe\">\n",
              "  <thead>\n",
              "    <tr style=\"text-align: right;\">\n",
              "      <th></th>\n",
              "      <th>ObservationItems</th>\n",
              "      <th>ObservationDistinctItems</th>\n",
              "      <th>ObservationMaxItem</th>\n",
              "      <th>BasketNum</th>\n",
              "      <th>SumExp</th>\n",
              "      <th>AvgExp</th>\n",
              "    </tr>\n",
              "  </thead>\n",
              "  <tbody>\n",
              "    <tr>\n",
              "      <th>count</th>\n",
              "      <td>4158.000000</td>\n",
              "      <td>4158.000000</td>\n",
              "      <td>4158.000000</td>\n",
              "      <td>4158.000000</td>\n",
              "      <td>4158.000000</td>\n",
              "      <td>4158.000000</td>\n",
              "    </tr>\n",
              "    <tr>\n",
              "      <th>mean</th>\n",
              "      <td>71.440356</td>\n",
              "      <td>52.205147</td>\n",
              "      <td>28.607504</td>\n",
              "      <td>4.242665</td>\n",
              "      <td>1223.584777</td>\n",
              "      <td>281.482805</td>\n",
              "    </tr>\n",
              "    <tr>\n",
              "      <th>std</th>\n",
              "      <td>88.671079</td>\n",
              "      <td>53.796519</td>\n",
              "      <td>22.830264</td>\n",
              "      <td>4.682463</td>\n",
              "      <td>1793.110829</td>\n",
              "      <td>200.922765</td>\n",
              "    </tr>\n",
              "    <tr>\n",
              "      <th>min</th>\n",
              "      <td>1.000000</td>\n",
              "      <td>1.000000</td>\n",
              "      <td>1.000000</td>\n",
              "      <td>1.000000</td>\n",
              "      <td>-1165.300000</td>\n",
              "      <td>-611.860000</td>\n",
              "    </tr>\n",
              "    <tr>\n",
              "      <th>25%</th>\n",
              "      <td>17.000000</td>\n",
              "      <td>15.000000</td>\n",
              "      <td>12.000000</td>\n",
              "      <td>1.000000</td>\n",
              "      <td>279.812500</td>\n",
              "      <td>149.785000</td>\n",
              "    </tr>\n",
              "    <tr>\n",
              "      <th>50%</th>\n",
              "      <td>39.000000</td>\n",
              "      <td>33.000000</td>\n",
              "      <td>22.000000</td>\n",
              "      <td>3.000000</td>\n",
              "      <td>609.520000</td>\n",
              "      <td>230.555833</td>\n",
              "    </tr>\n",
              "    <tr>\n",
              "      <th>75%</th>\n",
              "      <td>92.000000</td>\n",
              "      <td>71.000000</td>\n",
              "      <td>39.000000</td>\n",
              "      <td>5.000000</td>\n",
              "      <td>1415.215000</td>\n",
              "      <td>355.347500</td>\n",
              "    </tr>\n",
              "    <tr>\n",
              "      <th>max</th>\n",
              "      <td>756.000000</td>\n",
              "      <td>316.000000</td>\n",
              "      <td>125.000000</td>\n",
              "      <td>33.000000</td>\n",
              "      <td>21086.300000</td>\n",
              "      <td>1395.795000</td>\n",
              "    </tr>\n",
              "  </tbody>\n",
              "</table>\n",
              "</div>\n",
              "      <button class=\"colab-df-convert\" onclick=\"convertToInteractive('df-3a3d013d-ff4f-4cf0-ac10-89df1b55b38c')\"\n",
              "              title=\"Convert this dataframe to an interactive table.\"\n",
              "              style=\"display:none;\">\n",
              "        \n",
              "  <svg xmlns=\"http://www.w3.org/2000/svg\" height=\"24px\"viewBox=\"0 0 24 24\"\n",
              "       width=\"24px\">\n",
              "    <path d=\"M0 0h24v24H0V0z\" fill=\"none\"/>\n",
              "    <path d=\"M18.56 5.44l.94 2.06.94-2.06 2.06-.94-2.06-.94-.94-2.06-.94 2.06-2.06.94zm-11 1L8.5 8.5l.94-2.06 2.06-.94-2.06-.94L8.5 2.5l-.94 2.06-2.06.94zm10 10l.94 2.06.94-2.06 2.06-.94-2.06-.94-.94-2.06-.94 2.06-2.06.94z\"/><path d=\"M17.41 7.96l-1.37-1.37c-.4-.4-.92-.59-1.43-.59-.52 0-1.04.2-1.43.59L10.3 9.45l-7.72 7.72c-.78.78-.78 2.05 0 2.83L4 21.41c.39.39.9.59 1.41.59.51 0 1.02-.2 1.41-.59l7.78-7.78 2.81-2.81c.8-.78.8-2.07 0-2.86zM5.41 20L4 18.59l7.72-7.72 1.47 1.35L5.41 20z\"/>\n",
              "  </svg>\n",
              "      </button>\n",
              "      \n",
              "  <style>\n",
              "    .colab-df-container {\n",
              "      display:flex;\n",
              "      flex-wrap:wrap;\n",
              "      gap: 12px;\n",
              "    }\n",
              "\n",
              "    .colab-df-convert {\n",
              "      background-color: #E8F0FE;\n",
              "      border: none;\n",
              "      border-radius: 50%;\n",
              "      cursor: pointer;\n",
              "      display: none;\n",
              "      fill: #1967D2;\n",
              "      height: 32px;\n",
              "      padding: 0 0 0 0;\n",
              "      width: 32px;\n",
              "    }\n",
              "\n",
              "    .colab-df-convert:hover {\n",
              "      background-color: #E2EBFA;\n",
              "      box-shadow: 0px 1px 2px rgba(60, 64, 67, 0.3), 0px 1px 3px 1px rgba(60, 64, 67, 0.15);\n",
              "      fill: #174EA6;\n",
              "    }\n",
              "\n",
              "    [theme=dark] .colab-df-convert {\n",
              "      background-color: #3B4455;\n",
              "      fill: #D2E3FC;\n",
              "    }\n",
              "\n",
              "    [theme=dark] .colab-df-convert:hover {\n",
              "      background-color: #434B5C;\n",
              "      box-shadow: 0px 1px 3px 1px rgba(0, 0, 0, 0.15);\n",
              "      filter: drop-shadow(0px 1px 2px rgba(0, 0, 0, 0.3));\n",
              "      fill: #FFFFFF;\n",
              "    }\n",
              "  </style>\n",
              "\n",
              "      <script>\n",
              "        const buttonEl =\n",
              "          document.querySelector('#df-3a3d013d-ff4f-4cf0-ac10-89df1b55b38c button.colab-df-convert');\n",
              "        buttonEl.style.display =\n",
              "          google.colab.kernel.accessAllowed ? 'block' : 'none';\n",
              "\n",
              "        async function convertToInteractive(key) {\n",
              "          const element = document.querySelector('#df-3a3d013d-ff4f-4cf0-ac10-89df1b55b38c');\n",
              "          const dataTable =\n",
              "            await google.colab.kernel.invokeFunction('convertToInteractive',\n",
              "                                                     [key], {});\n",
              "          if (!dataTable) return;\n",
              "\n",
              "          const docLinkHtml = 'Like what you see? Visit the ' +\n",
              "            '<a target=\"_blank\" href=https://colab.research.google.com/notebooks/data_table.ipynb>data table notebook</a>'\n",
              "            + ' to learn more about interactive tables.';\n",
              "          element.innerHTML = '';\n",
              "          dataTable['output_type'] = 'display_data';\n",
              "          await google.colab.output.renderOutput(dataTable, element);\n",
              "          const docLink = document.createElement('div');\n",
              "          docLink.innerHTML = docLinkHtml;\n",
              "          element.appendChild(docLink);\n",
              "        }\n",
              "      </script>\n",
              "    </div>\n",
              "  </div>\n",
              "  "
            ],
            "text/plain": [
              "       ObservationItems  ObservationDistinctItems  ...        SumExp       AvgExp\n",
              "count       4158.000000               4158.000000  ...   4158.000000  4158.000000\n",
              "mean          71.440356                 52.205147  ...   1223.584777   281.482805\n",
              "std           88.671079                 53.796519  ...   1793.110829   200.922765\n",
              "min            1.000000                  1.000000  ...  -1165.300000  -611.860000\n",
              "25%           17.000000                 15.000000  ...    279.812500   149.785000\n",
              "50%           39.000000                 33.000000  ...    609.520000   230.555833\n",
              "75%           92.000000                 71.000000  ...   1415.215000   355.347500\n",
              "max          756.000000                316.000000  ...  21086.300000  1395.795000\n",
              "\n",
              "[8 rows x 6 columns]"
            ]
          },
          "metadata": {},
          "execution_count": 52
        }
      ]
    },
    {
      "cell_type": "code",
      "source": [
        "correlation = new_dataset_frame.corr()\n",
        "sns.set(style=\"white\")\n",
        "mask = np.zeros_like(correlation, dtype=np.bool)\n",
        "mask[np.triu_indices_from(mask)] = True\n",
        "fnew, axnew = plt.subplots(figsize=(9,9))\n",
        "cmap = sns.diverging_palette(220, 10, as_cmap=True)\n",
        "sns.heatmap(correlation, mask=mask, cmap=cmap,annot=True, vmax=1,vmin=-1, center=0,\n",
        "            square=True, linewidths=0.5, cbar_kws={\"shrink\": 0.5})"
      ],
      "metadata": {
        "colab": {
          "base_uri": "https://localhost:8080/",
          "height": 600
        },
        "id": "9S6e90T40mzA",
        "outputId": "b129fcf2-02f8-4465-ef5b-24e47f0a745f"
      },
      "execution_count": 54,
      "outputs": [
        {
          "output_type": "execute_result",
          "data": {
            "text/plain": [
              "<matplotlib.axes._subplots.AxesSubplot at 0x7fa7292759d0>"
            ]
          },
          "metadata": {},
          "execution_count": 54
        },
        {
          "output_type": "display_data",
          "data": {
            "image/png": "[encoded data removed]",
            "text/plain": [
              "<Figure size 648x648 with 2 Axes>"
            ]
          },
          "metadata": {}
        }
      ]
    }
  ]
}